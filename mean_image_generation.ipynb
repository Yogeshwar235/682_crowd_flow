{
  "cells": [
    {
      "cell_type": "code",
      "execution_count": null,
      "metadata": {},
      "outputs": [],
      "source": [
        "import numpy as np\n",
        "import cv2\n",
        "import os\n",
        "from PIL import Image\n",
        "\n"
      ]
    },
    {
      "cell_type": "markdown",
      "metadata": {},
      "source": [
        "## Generate avg image from the sequence of images\n",
        "\n",
        "The average image will give the overall flow over all the sequences. This is will a rough idea of what flows can be deduced from this subfolder.\n",
        "\n",
        "refer 000000.jpg in each subfolder for the mean image."
      ]
    },
    {
      "cell_type": "code",
      "execution_count": 2,
      "metadata": {},
      "outputs": [],
      "source": [
        "# generate average image of all the images in the folder\n",
        "# set the output image name to 000000.jpg which is the first image in the folder\n",
        "\n",
        "mot_folder = 'MOT20'\n",
        "\n",
        "for subfolder in os.listdir(mot_folder):\n",
        "    if not os.path.isdir(os.path.join(mot_folder, subfolder)):\n",
        "        continue\n",
        "    # if 000000.jpg already exists, skip\n",
        "    if os.path.exists(os.path.join(mot_folder, subfolder, '000000.jpg')):\n",
        "        continue\n",
        "    images = []\n",
        "    for filename in os.listdir(os.path.join(mot_folder, subfolder)):\n",
        "        if filename.endswith('.jpg'):\n",
        "            image_path = os.path.join(mot_folder, subfolder, filename)\n",
        "            image = cv2.imread(image_path)\n",
        "            images.append(image)\n",
        "\n",
        "    output_filename = os.path.join(mot_folder, subfolder, '000000.jpg')\n",
        "    average_image = np.mean(images, axis=0).astype(np.uint8)\n",
        "    cv2.imwrite(output_filename, average_image)\n",
        "\n",
        "\n",
        "\n"
      ]
    }
  ],
  "metadata": {
    "colab": {
      "provenance": []
    },
    "kernelspec": {
      "display_name": "Python 3",
      "name": "python3"
    },
    "language_info": {
      "codemirror_mode": {
        "name": "ipython",
        "version": 3
      },
      "file_extension": ".py",
      "mimetype": "text/x-python",
      "name": "python",
      "nbconvert_exporter": "python",
      "pygments_lexer": "ipython3",
      "version": "3.10.14"
    }
  },
  "nbformat": 4,
  "nbformat_minor": 0
}
